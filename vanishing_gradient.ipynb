{
 "cells": [
  {
   "cell_type": "markdown",
   "id": "0018033a",
   "metadata": {},
   "source": [
    "### Vanishing Gradient Problem\n",
    "During Backpropagation gradients are calculated by chain differentiation of loss function w.r.t different dependent variables.<br>\n",
    "So if gradient of one varible w.r.t other variable < 1 then product of all partial differentials in chain differentiation tends to 0.<br><br>\n",
    "We have, weight_final = weight_initial - LR x gradient<br><br>\n",
    "If gradient is very low then change in weight is very small and hence Loss function will not get reduced.\n",
    "<br><br>\n",
    "It occurs in Deep Neural Networks having sigmoid/tanh activation function.In worst case, it stops NN from further training."
   ]
  },
  {
   "cell_type": "code",
   "execution_count": 262,
   "id": "bb3013c0",
   "metadata": {},
   "outputs": [],
   "source": [
    "from sklearn.datasets import make_classification\n",
    "from sklearn.model_selection import train_test_split\n",
    "import tensorflow\n",
    "from tensorflow import keras\n",
    "from tensorflow.keras import Sequential \n",
    "from tensorflow.keras.layers import Dense\n",
    "from tensorflow.keras.optimizers import Adam\n",
    "import numpy as np"
   ]
  },
  {
   "cell_type": "code",
   "execution_count": 263,
   "id": "8fd8aab1",
   "metadata": {},
   "outputs": [],
   "source": [
    "X,y=make_classification(n_samples=100,n_features=2,n_classes=2,n_redundant=0,n_repeated=0,n_clusters_per_class=1,random_state=2121)\n"
   ]
  },
  {
   "cell_type": "markdown",
   "id": "88ae8c37",
   "metadata": {},
   "source": [
    "### Having too many deep layers causes Vanishing gradient problem"
   ]
  },
  {
   "cell_type": "code",
   "execution_count": 264,
   "id": "a0ee5f09",
   "metadata": {},
   "outputs": [],
   "source": [
    "test_nn=Sequential(\n",
    "[Dense(8,activation=\"sigmoid\",input_shape=(2,)),\n",
    "Dense(8,activation=\"sigmoid\"),\n",
    "Dense(8,activation=\"sigmoid\"),\n",
    "Dense(8,activation=\"sigmoid\"),\n",
    "Dense(8,activation=\"sigmoid\"),\n",
    "Dense(8,activation=\"sigmoid\"),\n",
    "Dense(8,activation=\"sigmoid\"),\n",
    "Dense(8,activation=\"sigmoid\"),\n",
    "Dense(1,activation=\"sigmoid\")]\n",
    ")"
   ]
  },
  {
   "cell_type": "code",
   "execution_count": 265,
   "id": "22f47184",
   "metadata": {},
   "outputs": [
    {
     "name": "stderr",
     "output_type": "stream",
     "text": [
      "C:\\Users\\Nitro V 16\\AppData\\Local\\Temp\\ipykernel_2996\\1647188047.py:1: DeprecationWarning: __array__ implementation doesn't accept a copy keyword, so passing copy=False failed. __array__ must implement 'dtype' and 'copy' keyword arguments. To learn more, see the migration guide https://numpy.org/devdocs/numpy_2_0_migration_guide.html#adapting-to-changes-in-the-copy-keyword\n",
      "  inital_wt=np.array(test_nn.weights[0])\n"
     ]
    }
   ],
   "source": [
    "inital_wt=np.array(test_nn.weights[0])"
   ]
  },
  {
   "cell_type": "code",
   "execution_count": 266,
   "id": "26e92318",
   "metadata": {},
   "outputs": [],
   "source": [
    "X_train,X_test,y_train,y_test=train_test_split(X,y,random_state=2121)"
   ]
  },
  {
   "cell_type": "code",
   "execution_count": 267,
   "id": "66d4fdf5",
   "metadata": {},
   "outputs": [],
   "source": [
    "optimizer=Adam(learning_rate=0.1)\n",
    "test_nn.compile(    optimizer=optimizer,\n",
    "    loss='binary_crossentropy',\n",
    "    metrics=['accuracy'])"
   ]
  },
  {
   "cell_type": "code",
   "execution_count": 268,
   "id": "e8e3d88a",
   "metadata": {},
   "outputs": [
    {
     "data": {
      "text/html": [
       "<pre style=\"white-space:pre;overflow-x:auto;line-height:normal;font-family:Menlo,'DejaVu Sans Mono',consolas,'Courier New',monospace\"><span style=\"font-weight: bold\">Model: \"sequential_42\"</span>\n",
       "</pre>\n"
      ],
      "text/plain": [
       "\u001b[1mModel: \"sequential_42\"\u001b[0m\n"
      ]
     },
     "metadata": {},
     "output_type": "display_data"
    },
    {
     "data": {
      "text/html": [
       "<pre style=\"white-space:pre;overflow-x:auto;line-height:normal;font-family:Menlo,'DejaVu Sans Mono',consolas,'Courier New',monospace\">┏━━━━━━━━━━━━━━━━━━━━━━━━━━━━━━━━━┳━━━━━━━━━━━━━━━━━━━━━━━━┳━━━━━━━━━━━━━━━┓\n",
       "┃<span style=\"font-weight: bold\"> Layer (type)                    </span>┃<span style=\"font-weight: bold\"> Output Shape           </span>┃<span style=\"font-weight: bold\">       Param # </span>┃\n",
       "┡━━━━━━━━━━━━━━━━━━━━━━━━━━━━━━━━━╇━━━━━━━━━━━━━━━━━━━━━━━━╇━━━━━━━━━━━━━━━┩\n",
       "│ dense_220 (<span style=\"color: #0087ff; text-decoration-color: #0087ff\">Dense</span>)               │ (<span style=\"color: #00d7ff; text-decoration-color: #00d7ff\">None</span>, <span style=\"color: #00af00; text-decoration-color: #00af00\">8</span>)              │            <span style=\"color: #00af00; text-decoration-color: #00af00\">24</span> │\n",
       "├─────────────────────────────────┼────────────────────────┼───────────────┤\n",
       "│ dense_221 (<span style=\"color: #0087ff; text-decoration-color: #0087ff\">Dense</span>)               │ (<span style=\"color: #00d7ff; text-decoration-color: #00d7ff\">None</span>, <span style=\"color: #00af00; text-decoration-color: #00af00\">8</span>)              │            <span style=\"color: #00af00; text-decoration-color: #00af00\">72</span> │\n",
       "├─────────────────────────────────┼────────────────────────┼───────────────┤\n",
       "│ dense_222 (<span style=\"color: #0087ff; text-decoration-color: #0087ff\">Dense</span>)               │ (<span style=\"color: #00d7ff; text-decoration-color: #00d7ff\">None</span>, <span style=\"color: #00af00; text-decoration-color: #00af00\">8</span>)              │            <span style=\"color: #00af00; text-decoration-color: #00af00\">72</span> │\n",
       "├─────────────────────────────────┼────────────────────────┼───────────────┤\n",
       "│ dense_223 (<span style=\"color: #0087ff; text-decoration-color: #0087ff\">Dense</span>)               │ (<span style=\"color: #00d7ff; text-decoration-color: #00d7ff\">None</span>, <span style=\"color: #00af00; text-decoration-color: #00af00\">8</span>)              │            <span style=\"color: #00af00; text-decoration-color: #00af00\">72</span> │\n",
       "├─────────────────────────────────┼────────────────────────┼───────────────┤\n",
       "│ dense_224 (<span style=\"color: #0087ff; text-decoration-color: #0087ff\">Dense</span>)               │ (<span style=\"color: #00d7ff; text-decoration-color: #00d7ff\">None</span>, <span style=\"color: #00af00; text-decoration-color: #00af00\">8</span>)              │            <span style=\"color: #00af00; text-decoration-color: #00af00\">72</span> │\n",
       "├─────────────────────────────────┼────────────────────────┼───────────────┤\n",
       "│ dense_225 (<span style=\"color: #0087ff; text-decoration-color: #0087ff\">Dense</span>)               │ (<span style=\"color: #00d7ff; text-decoration-color: #00d7ff\">None</span>, <span style=\"color: #00af00; text-decoration-color: #00af00\">8</span>)              │            <span style=\"color: #00af00; text-decoration-color: #00af00\">72</span> │\n",
       "├─────────────────────────────────┼────────────────────────┼───────────────┤\n",
       "│ dense_226 (<span style=\"color: #0087ff; text-decoration-color: #0087ff\">Dense</span>)               │ (<span style=\"color: #00d7ff; text-decoration-color: #00d7ff\">None</span>, <span style=\"color: #00af00; text-decoration-color: #00af00\">8</span>)              │            <span style=\"color: #00af00; text-decoration-color: #00af00\">72</span> │\n",
       "├─────────────────────────────────┼────────────────────────┼───────────────┤\n",
       "│ dense_227 (<span style=\"color: #0087ff; text-decoration-color: #0087ff\">Dense</span>)               │ (<span style=\"color: #00d7ff; text-decoration-color: #00d7ff\">None</span>, <span style=\"color: #00af00; text-decoration-color: #00af00\">8</span>)              │            <span style=\"color: #00af00; text-decoration-color: #00af00\">72</span> │\n",
       "├─────────────────────────────────┼────────────────────────┼───────────────┤\n",
       "│ dense_228 (<span style=\"color: #0087ff; text-decoration-color: #0087ff\">Dense</span>)               │ (<span style=\"color: #00d7ff; text-decoration-color: #00d7ff\">None</span>, <span style=\"color: #00af00; text-decoration-color: #00af00\">1</span>)              │             <span style=\"color: #00af00; text-decoration-color: #00af00\">9</span> │\n",
       "└─────────────────────────────────┴────────────────────────┴───────────────┘\n",
       "</pre>\n"
      ],
      "text/plain": [
       "┏━━━━━━━━━━━━━━━━━━━━━━━━━━━━━━━━━┳━━━━━━━━━━━━━━━━━━━━━━━━┳━━━━━━━━━━━━━━━┓\n",
       "┃\u001b[1m \u001b[0m\u001b[1mLayer (type)                   \u001b[0m\u001b[1m \u001b[0m┃\u001b[1m \u001b[0m\u001b[1mOutput Shape          \u001b[0m\u001b[1m \u001b[0m┃\u001b[1m \u001b[0m\u001b[1m      Param #\u001b[0m\u001b[1m \u001b[0m┃\n",
       "┡━━━━━━━━━━━━━━━━━━━━━━━━━━━━━━━━━╇━━━━━━━━━━━━━━━━━━━━━━━━╇━━━━━━━━━━━━━━━┩\n",
       "│ dense_220 (\u001b[38;5;33mDense\u001b[0m)               │ (\u001b[38;5;45mNone\u001b[0m, \u001b[38;5;34m8\u001b[0m)              │            \u001b[38;5;34m24\u001b[0m │\n",
       "├─────────────────────────────────┼────────────────────────┼───────────────┤\n",
       "│ dense_221 (\u001b[38;5;33mDense\u001b[0m)               │ (\u001b[38;5;45mNone\u001b[0m, \u001b[38;5;34m8\u001b[0m)              │            \u001b[38;5;34m72\u001b[0m │\n",
       "├─────────────────────────────────┼────────────────────────┼───────────────┤\n",
       "│ dense_222 (\u001b[38;5;33mDense\u001b[0m)               │ (\u001b[38;5;45mNone\u001b[0m, \u001b[38;5;34m8\u001b[0m)              │            \u001b[38;5;34m72\u001b[0m │\n",
       "├─────────────────────────────────┼────────────────────────┼───────────────┤\n",
       "│ dense_223 (\u001b[38;5;33mDense\u001b[0m)               │ (\u001b[38;5;45mNone\u001b[0m, \u001b[38;5;34m8\u001b[0m)              │            \u001b[38;5;34m72\u001b[0m │\n",
       "├─────────────────────────────────┼────────────────────────┼───────────────┤\n",
       "│ dense_224 (\u001b[38;5;33mDense\u001b[0m)               │ (\u001b[38;5;45mNone\u001b[0m, \u001b[38;5;34m8\u001b[0m)              │            \u001b[38;5;34m72\u001b[0m │\n",
       "├─────────────────────────────────┼────────────────────────┼───────────────┤\n",
       "│ dense_225 (\u001b[38;5;33mDense\u001b[0m)               │ (\u001b[38;5;45mNone\u001b[0m, \u001b[38;5;34m8\u001b[0m)              │            \u001b[38;5;34m72\u001b[0m │\n",
       "├─────────────────────────────────┼────────────────────────┼───────────────┤\n",
       "│ dense_226 (\u001b[38;5;33mDense\u001b[0m)               │ (\u001b[38;5;45mNone\u001b[0m, \u001b[38;5;34m8\u001b[0m)              │            \u001b[38;5;34m72\u001b[0m │\n",
       "├─────────────────────────────────┼────────────────────────┼───────────────┤\n",
       "│ dense_227 (\u001b[38;5;33mDense\u001b[0m)               │ (\u001b[38;5;45mNone\u001b[0m, \u001b[38;5;34m8\u001b[0m)              │            \u001b[38;5;34m72\u001b[0m │\n",
       "├─────────────────────────────────┼────────────────────────┼───────────────┤\n",
       "│ dense_228 (\u001b[38;5;33mDense\u001b[0m)               │ (\u001b[38;5;45mNone\u001b[0m, \u001b[38;5;34m1\u001b[0m)              │             \u001b[38;5;34m9\u001b[0m │\n",
       "└─────────────────────────────────┴────────────────────────┴───────────────┘\n"
      ]
     },
     "metadata": {},
     "output_type": "display_data"
    },
    {
     "data": {
      "text/html": [
       "<pre style=\"white-space:pre;overflow-x:auto;line-height:normal;font-family:Menlo,'DejaVu Sans Mono',consolas,'Courier New',monospace\"><span style=\"font-weight: bold\"> Total params: </span><span style=\"color: #00af00; text-decoration-color: #00af00\">537</span> (2.10 KB)\n",
       "</pre>\n"
      ],
      "text/plain": [
       "\u001b[1m Total params: \u001b[0m\u001b[38;5;34m537\u001b[0m (2.10 KB)\n"
      ]
     },
     "metadata": {},
     "output_type": "display_data"
    },
    {
     "data": {
      "text/html": [
       "<pre style=\"white-space:pre;overflow-x:auto;line-height:normal;font-family:Menlo,'DejaVu Sans Mono',consolas,'Courier New',monospace\"><span style=\"font-weight: bold\"> Trainable params: </span><span style=\"color: #00af00; text-decoration-color: #00af00\">537</span> (2.10 KB)\n",
       "</pre>\n"
      ],
      "text/plain": [
       "\u001b[1m Trainable params: \u001b[0m\u001b[38;5;34m537\u001b[0m (2.10 KB)\n"
      ]
     },
     "metadata": {},
     "output_type": "display_data"
    },
    {
     "data": {
      "text/html": [
       "<pre style=\"white-space:pre;overflow-x:auto;line-height:normal;font-family:Menlo,'DejaVu Sans Mono',consolas,'Courier New',monospace\"><span style=\"font-weight: bold\"> Non-trainable params: </span><span style=\"color: #00af00; text-decoration-color: #00af00\">0</span> (0.00 B)\n",
       "</pre>\n"
      ],
      "text/plain": [
       "\u001b[1m Non-trainable params: \u001b[0m\u001b[38;5;34m0\u001b[0m (0.00 B)\n"
      ]
     },
     "metadata": {},
     "output_type": "display_data"
    }
   ],
   "source": [
    "test_nn.summary()"
   ]
  },
  {
   "cell_type": "code",
   "execution_count": 269,
   "id": "dd02c9d2",
   "metadata": {},
   "outputs": [
    {
     "name": "stdout",
     "output_type": "stream",
     "text": [
      "\u001b[1m3/3\u001b[0m \u001b[32m━━━━━━━━━━━━━━━━━━━━\u001b[0m\u001b[37m\u001b[0m \u001b[1m3s\u001b[0m 17ms/step - accuracy: 0.4133 - loss: 0.7679\n"
     ]
    },
    {
     "data": {
      "text/plain": [
       "<keras.src.callbacks.history.History at 0x173023d08a0>"
      ]
     },
     "execution_count": 269,
     "metadata": {},
     "output_type": "execute_result"
    }
   ],
   "source": [
    "test_nn.fit(X_train,y_train,epochs=1)"
   ]
  },
  {
   "cell_type": "code",
   "execution_count": 270,
   "id": "88f71fbf",
   "metadata": {},
   "outputs": [
    {
     "name": "stderr",
     "output_type": "stream",
     "text": [
      "C:\\Users\\Nitro V 16\\AppData\\Local\\Temp\\ipykernel_2996\\4140988077.py:1: DeprecationWarning: __array__ implementation doesn't accept a copy keyword, so passing copy=False failed. __array__ must implement 'dtype' and 'copy' keyword arguments. To learn more, see the migration guide https://numpy.org/devdocs/numpy_2_0_migration_guide.html#adapting-to-changes-in-the-copy-keyword\n",
      "  final_weigts=np.array(test_nn.weights[0])\n"
     ]
    }
   ],
   "source": [
    "final_weigts=np.array(test_nn.weights[0])\n",
    "lr=test_nn.optimizer.get_config()[\"learning_rate\"]"
   ]
  },
  {
   "cell_type": "code",
   "execution_count": 271,
   "id": "e2834236",
   "metadata": {},
   "outputs": [],
   "source": [
    "gradient=(inital_wt-final_weigts)/lr"
   ]
  },
  {
   "cell_type": "code",
   "execution_count": 272,
   "id": "22b1e450",
   "metadata": {},
   "outputs": [
    {
     "data": {
      "text/plain": [
       "array([[ 2.1639452 , -1.4732965 ,  1.1970878 ,  1.6995776 ,  0.42705566,\n",
       "         0.9939125 ,  1.3632133 , -1.4903407 ],\n",
       "       [-2.0851734 ,  1.3766339 , -1.0930878 , -1.6908276 , -0.48531234,\n",
       "        -0.85935473, -1.267721  ,  1.3742449 ]], dtype=float32)"
      ]
     },
     "execution_count": 272,
     "metadata": {},
     "output_type": "execute_result"
    }
   ],
   "source": [
    "gradient"
   ]
  },
  {
   "cell_type": "markdown",
   "id": "fd8f2686",
   "metadata": {},
   "source": [
    "<h3>Solution 1: Reduce No of layers</h3>"
   ]
  },
  {
   "cell_type": "code",
   "execution_count": 273,
   "id": "453dc44e",
   "metadata": {},
   "outputs": [
    {
     "name": "stderr",
     "output_type": "stream",
     "text": [
      "C:\\Users\\Nitro V 16\\AppData\\Local\\Temp\\ipykernel_2996\\1298654029.py:6: DeprecationWarning: __array__ implementation doesn't accept a copy keyword, so passing copy=False failed. __array__ must implement 'dtype' and 'copy' keyword arguments. To learn more, see the migration guide https://numpy.org/devdocs/numpy_2_0_migration_guide.html#adapting-to-changes-in-the-copy-keyword\n",
      "  inital_wt=np.array(test_nn.weights[0])\n"
     ]
    },
    {
     "name": "stdout",
     "output_type": "stream",
     "text": [
      "\u001b[1m3/3\u001b[0m \u001b[32m━━━━━━━━━━━━━━━━━━━━\u001b[0m\u001b[37m\u001b[0m \u001b[1m1s\u001b[0m 16ms/step - accuracy: 0.5600 - loss: 0.6663\n"
     ]
    },
    {
     "name": "stderr",
     "output_type": "stream",
     "text": [
      "C:\\Users\\Nitro V 16\\AppData\\Local\\Temp\\ipykernel_2996\\1298654029.py:12: DeprecationWarning: __array__ implementation doesn't accept a copy keyword, so passing copy=False failed. __array__ must implement 'dtype' and 'copy' keyword arguments. To learn more, see the migration guide https://numpy.org/devdocs/numpy_2_0_migration_guide.html#adapting-to-changes-in-the-copy-keyword\n",
      "  final_weigts=np.array(test_nn.weights[0])\n"
     ]
    }
   ],
   "source": [
    "test_nn=Sequential(\n",
    "[Dense(8,activation=\"sigmoid\",input_shape=(2,)),\n",
    "Dense(8,activation=\"sigmoid\"),\n",
    "Dense(1,activation=\"sigmoid\")]\n",
    ")\n",
    "inital_wt=np.array(test_nn.weights[0])\n",
    "optimizer=Adam(learning_rate=0.1)\n",
    "test_nn.compile(    optimizer=optimizer,\n",
    "    loss='binary_crossentropy',\n",
    "    metrics=['accuracy'])\n",
    "test_nn.fit(X_train,y_train,epochs=1)\n",
    "final_weigts=np.array(test_nn.weights[0])\n",
    "diff=final_weigts-inital_wt"
   ]
  },
  {
   "cell_type": "code",
   "execution_count": 274,
   "id": "277f28c5",
   "metadata": {},
   "outputs": [
    {
     "data": {
      "text/plain": [
       "array([[-0.9269976 , -3.0030394 , -2.0295124 ,  2.9451587 , -2.605168  ,\n",
       "        -0.24376482, -2.6741471 ,  2.5677633 ],\n",
       "       [ 0.846422  ,  2.9996865 ,  1.9463426 , -2.9868808 ,  2.5971391 ,\n",
       "         0.29589534,  2.7272024 , -2.5260043 ]], dtype=float32)"
      ]
     },
     "execution_count": 274,
     "metadata": {},
     "output_type": "execute_result"
    }
   ],
   "source": [
    "lr=test_nn.optimizer.get_config()[\"learning_rate\"]\n",
    "gradient=(inital_wt-final_weigts)/lr\n",
    "gradient"
   ]
  },
  {
   "cell_type": "markdown",
   "id": "7e916abe",
   "metadata": {},
   "source": [
    "#### After reducing layer gradient is more than initially was"
   ]
  },
  {
   "cell_type": "markdown",
   "id": "c276c441",
   "metadata": {},
   "source": [
    "### Solution 2: Using Relu as activation function"
   ]
  },
  {
   "cell_type": "code",
   "execution_count": 275,
   "id": "183877d9",
   "metadata": {},
   "outputs": [
    {
     "name": "stderr",
     "output_type": "stream",
     "text": [
      "C:\\Users\\Nitro V 16\\AppData\\Local\\Temp\\ipykernel_2996\\761617041.py:11: DeprecationWarning: __array__ implementation doesn't accept a copy keyword, so passing copy=False failed. __array__ must implement 'dtype' and 'copy' keyword arguments. To learn more, see the migration guide https://numpy.org/devdocs/numpy_2_0_migration_guide.html#adapting-to-changes-in-the-copy-keyword\n",
      "  inital_wt=np.array(test_nn.weights[0])\n"
     ]
    },
    {
     "name": "stdout",
     "output_type": "stream",
     "text": [
      "\u001b[1m3/3\u001b[0m \u001b[32m━━━━━━━━━━━━━━━━━━━━\u001b[0m\u001b[37m\u001b[0m \u001b[1m2s\u001b[0m 19ms/step - accuracy: 0.5333 - loss: 0.6802\n"
     ]
    },
    {
     "name": "stderr",
     "output_type": "stream",
     "text": [
      "C:\\Users\\Nitro V 16\\AppData\\Local\\Temp\\ipykernel_2996\\761617041.py:17: DeprecationWarning: __array__ implementation doesn't accept a copy keyword, so passing copy=False failed. __array__ must implement 'dtype' and 'copy' keyword arguments. To learn more, see the migration guide https://numpy.org/devdocs/numpy_2_0_migration_guide.html#adapting-to-changes-in-the-copy-keyword\n",
      "  final_weigts=np.array(test_nn.weights[0])\n"
     ]
    },
    {
     "data": {
      "text/plain": [
       "array([[-0.29969215,  0.29403627, -0.1008594 ,  2.587285  , -2.991471  ,\n",
       "         0.08816451, -2.832948  ,  0.5314074 ],\n",
       "       [ 0.2987673 , -0.30447274, -0.21257162, -0.7289976 ,  2.9930012 ,\n",
       "         1.1152732 ,  2.840048  , -0.29563606]], dtype=float32)"
      ]
     },
     "execution_count": 275,
     "metadata": {},
     "output_type": "execute_result"
    }
   ],
   "source": [
    "test_nn=Sequential(\n",
    "[Dense(8,activation=\"relu\",input_shape=(2,)),\n",
    "Dense(8,activation=\"relu\"),\n",
    "Dense(8,activation=\"relu\"),\n",
    "Dense(8,activation=\"relu\"),\n",
    "Dense(8,activation=\"relu\"),\n",
    "Dense(8,activation=\"relu\"),\n",
    "Dense(8,activation=\"relu\"),\n",
    "Dense(1,activation=\"sigmoid\")]\n",
    ")\n",
    "inital_wt=np.array(test_nn.weights[0])\n",
    "optimizer=Adam(learning_rate=0.1)\n",
    "test_nn.compile(    optimizer=optimizer,\n",
    "    loss='binary_crossentropy',\n",
    "    metrics=['accuracy'])\n",
    "test_nn.fit(X_train,y_train,epochs=1)\n",
    "final_weigts=np.array(test_nn.weights[0])\n",
    "lr=test_nn.optimizer.get_config()[\"learning_rate\"]\n",
    "gradient=(inital_wt-final_weigts)/lr\n",
    "gradient"
   ]
  }
 ],
 "metadata": {
  "kernelspec": {
   "display_name": "Empty (3.13.5)",
   "language": "python",
   "name": "python3"
  },
  "language_info": {
   "codemirror_mode": {
    "name": "ipython",
    "version": 3
   },
   "file_extension": ".py",
   "mimetype": "text/x-python",
   "name": "python",
   "nbconvert_exporter": "python",
   "pygments_lexer": "ipython3",
   "version": "3.13.5"
  }
 },
 "nbformat": 4,
 "nbformat_minor": 5
}
