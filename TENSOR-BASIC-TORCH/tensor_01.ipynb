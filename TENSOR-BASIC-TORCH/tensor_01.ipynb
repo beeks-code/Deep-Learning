{
 "cells": [
  {
   "cell_type": "code",
   "execution_count": 3,
   "id": "2443c7a4",
   "metadata": {},
   "outputs": [],
   "source": [
    "import torch\n",
    "import numpy as np"
   ]
  },
  {
   "cell_type": "markdown",
   "id": "01367069",
   "metadata": {},
   "source": [
    "### Creating tensor Using Multiple Methods"
   ]
  },
  {
   "cell_type": "code",
   "execution_count": 4,
   "id": "c7d4e6ef",
   "metadata": {},
   "outputs": [],
   "source": [
    "## Normally\n",
    "a=torch.tensor([2,3,4])"
   ]
  },
  {
   "cell_type": "code",
   "execution_count": 5,
   "id": "1e7be076",
   "metadata": {},
   "outputs": [
    {
     "data": {
      "text/plain": [
       "torch.Tensor"
      ]
     },
     "execution_count": 5,
     "metadata": {},
     "output_type": "execute_result"
    }
   ],
   "source": [
    "type(a)"
   ]
  },
  {
   "cell_type": "code",
   "execution_count": 6,
   "id": "0b43170c",
   "metadata": {},
   "outputs": [],
   "source": [
    "## from npy array\n",
    "np_arr=np.array([2,3,4])\n",
    "torch_arr=torch.tensor(np_arr)"
   ]
  },
  {
   "cell_type": "markdown",
   "id": "ded21c75",
   "metadata": {},
   "source": [
    "Empty allocates memory to tensor but doesnt initialize it by any value. But it prints garbage value without storing on memory"
   ]
  },
  {
   "cell_type": "code",
   "execution_count": 7,
   "id": "54c65dab",
   "metadata": {},
   "outputs": [
    {
     "data": {
      "text/plain": [
       "tensor([[0., 0., 0.],\n",
       "        [0., 0., 0.]])"
      ]
     },
     "execution_count": 7,
     "metadata": {},
     "output_type": "execute_result"
    }
   ],
   "source": [
    "## using empty\n",
    "a=torch.empty(2,3)\n",
    "a"
   ]
  },
  {
   "cell_type": "code",
   "execution_count": 8,
   "id": "e5e982b0",
   "metadata": {},
   "outputs": [
    {
     "data": {
      "text/plain": [
       "tensor([0, 0, 0])"
      ]
     },
     "execution_count": 8,
     "metadata": {},
     "output_type": "execute_result"
    }
   ],
   "source": [
    "torch.empty_like(torch_arr)"
   ]
  },
  {
   "cell_type": "code",
   "execution_count": 9,
   "id": "28af0b39",
   "metadata": {},
   "outputs": [
    {
     "data": {
      "text/plain": [
       "tensor([[0., 0., 0.],\n",
       "        [0., 0., 0.]])"
      ]
     },
     "execution_count": 9,
     "metadata": {},
     "output_type": "execute_result"
    }
   ],
   "source": [
    "### using zeroes\n",
    "shape=(2,3)\n",
    "torch.zeros(shape)"
   ]
  },
  {
   "cell_type": "code",
   "execution_count": 10,
   "id": "062d9ed0",
   "metadata": {},
   "outputs": [
    {
     "data": {
      "text/plain": [
       "tensor([0, 0, 0])"
      ]
     },
     "execution_count": 10,
     "metadata": {},
     "output_type": "execute_result"
    }
   ],
   "source": [
    "torch.zeros_like(torch_arr)"
   ]
  },
  {
   "cell_type": "code",
   "execution_count": 11,
   "id": "c523316a",
   "metadata": {},
   "outputs": [
    {
     "data": {
      "text/plain": [
       "tensor([1, 1, 1])"
      ]
     },
     "execution_count": 11,
     "metadata": {},
     "output_type": "execute_result"
    }
   ],
   "source": [
    "## Using ones\n",
    "torch.ones(shape)\n",
    "torch.ones_like(torch_arr)"
   ]
  },
  {
   "cell_type": "code",
   "execution_count": 12,
   "id": "a4e5c0ae",
   "metadata": {},
   "outputs": [
    {
     "data": {
      "text/plain": [
       "tensor([[0.6291, 0.6960, 0.6387],\n",
       "        [0.1741, 0.8148, 0.4552]])"
      ]
     },
     "execution_count": 12,
     "metadata": {},
     "output_type": "execute_result"
    }
   ],
   "source": [
    "## using rand\n",
    "torch.rand(shape)"
   ]
  },
  {
   "cell_type": "code",
   "execution_count": 13,
   "id": "91d1c765",
   "metadata": {},
   "outputs": [
    {
     "data": {
      "text/plain": [
       "tensor([0.8491, 0.2686, 0.7466], dtype=torch.float16)"
      ]
     },
     "execution_count": 13,
     "metadata": {},
     "output_type": "execute_result"
    }
   ],
   "source": [
    "## we have to mention dtype of tensor as float as rand genrate vaue from 0 to 1\n",
    "torch.rand_like(torch_arr,dtype=torch.float16)"
   ]
  },
  {
   "cell_type": "code",
   "execution_count": 14,
   "id": "fa75f065",
   "metadata": {},
   "outputs": [
    {
     "data": {
      "text/plain": [
       "tensor([[0.6147, 0.3810, 0.6371],\n",
       "        [0.4745, 0.7136, 0.6190]])"
      ]
     },
     "execution_count": 14,
     "metadata": {},
     "output_type": "execute_result"
    }
   ],
   "source": [
    "## tensor with seeding for reproducebility\n",
    "torch.manual_seed(2)\n",
    "torch.rand(2,3)"
   ]
  },
  {
   "cell_type": "code",
   "execution_count": 15,
   "id": "075e94e3",
   "metadata": {},
   "outputs": [
    {
     "data": {
      "text/plain": [
       "tensor([0, 2, 4, 6, 8])"
      ]
     },
     "execution_count": 15,
     "metadata": {},
     "output_type": "execute_result"
    }
   ],
   "source": [
    "## other\n",
    "torch.arange(0,9,2)"
   ]
  },
  {
   "cell_type": "code",
   "execution_count": 16,
   "id": "b7d23c79",
   "metadata": {},
   "outputs": [
    {
     "data": {
      "text/plain": [
       "tensor([-2.0000, -1.5556, -1.1111, -0.6667, -0.2222,  0.2222,  0.6667,  1.1111,\n",
       "         1.5556,  2.0000])"
      ]
     },
     "execution_count": 16,
     "metadata": {},
     "output_type": "execute_result"
    }
   ],
   "source": [
    "torch.linspace(-2,2,10)"
   ]
  },
  {
   "cell_type": "code",
   "execution_count": 17,
   "id": "3896b18e",
   "metadata": {},
   "outputs": [
    {
     "data": {
      "text/plain": [
       "tensor([[1., 0., 0., 0., 0.],\n",
       "        [0., 1., 0., 0., 0.],\n",
       "        [0., 0., 1., 0., 0.],\n",
       "        [0., 0., 0., 1., 0.],\n",
       "        [0., 0., 0., 0., 1.]])"
      ]
     },
     "execution_count": 17,
     "metadata": {},
     "output_type": "execute_result"
    }
   ],
   "source": [
    "torch.eye(5) "
   ]
  },
  {
   "cell_type": "code",
   "execution_count": 18,
   "id": "c7aae2ef",
   "metadata": {},
   "outputs": [
    {
     "data": {
      "text/plain": [
       "tensor([[5, 5, 5, 5],\n",
       "        [5, 5, 5, 5],\n",
       "        [5, 5, 5, 5],\n",
       "        [5, 5, 5, 5]])"
      ]
     },
     "execution_count": 18,
     "metadata": {},
     "output_type": "execute_result"
    }
   ],
   "source": [
    "torch.full((4,4),5)\n",
    "##   torch.full_like()"
   ]
  }
 ],
 "metadata": {
  "kernelspec": {
   "display_name": "Empty (3.13.5)",
   "language": "python",
   "name": "python3"
  },
  "language_info": {
   "codemirror_mode": {
    "name": "ipython",
    "version": 3
   },
   "file_extension": ".py",
   "mimetype": "text/x-python",
   "name": "python",
   "nbconvert_exporter": "python",
   "pygments_lexer": "ipython3",
   "version": "3.13.5"
  }
 },
 "nbformat": 4,
 "nbformat_minor": 5
}
