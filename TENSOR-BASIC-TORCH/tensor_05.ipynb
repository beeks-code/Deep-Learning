{
 "cells": [
  {
   "cell_type": "code",
   "execution_count": 51,
   "id": "d48e1caf",
   "metadata": {},
   "outputs": [],
   "source": [
    "import torch"
   ]
  },
  {
   "cell_type": "code",
   "execution_count": 52,
   "id": "edbaac1b",
   "metadata": {},
   "outputs": [],
   "source": [
    "vect1=torch.tensor([32,43,26,22])\n",
    "vect2=torch.tensor([32,43,26,22],dtype=float)"
   ]
  },
  {
   "cell_type": "markdown",
   "id": "a027784f",
   "metadata": {},
   "source": [
    "### In-Place Operation <br>\n",
    "An in-place operation in PyTorch  is an operation that modifies the contents of a tensor directly in memory, instead of creating a new tensor.\n",
    "<br> <br> Suppose we want to apply relu activation on a tensor and store it back to that tensor <br>\n",
    "#### Instead of doing"
   ]
  },
  {
   "cell_type": "code",
   "execution_count": 53,
   "id": "e3ed903e",
   "metadata": {},
   "outputs": [
    {
     "data": {
      "text/plain": [
       "tensor([1., 1., 1., 1.])"
      ]
     },
     "execution_count": 53,
     "metadata": {},
     "output_type": "execute_result"
    }
   ],
   "source": [
    "vect1=torch.sigmoid(vect1)\n",
    "vect1"
   ]
  },
  {
   "cell_type": "markdown",
   "id": "a13ead0e",
   "metadata": {},
   "source": [
    "#### We do"
   ]
  },
  {
   "cell_type": "code",
   "execution_count": 54,
   "id": "a7820040",
   "metadata": {},
   "outputs": [
    {
     "data": {
      "text/plain": [
       "tensor([1.0000, 1.0000, 1.0000, 1.0000], dtype=torch.float64)"
      ]
     },
     "execution_count": 54,
     "metadata": {},
     "output_type": "execute_result"
    }
   ],
   "source": [
    "vect2.sigmoid_()"
   ]
  },
  {
   "cell_type": "markdown",
   "id": "6d574fce",
   "metadata": {},
   "source": [
    "#### To perform In-place operation on any tensor we do <br>\n",
    "tensor.function_()\n",
    "eg: vect=torch.tensor([1,3,4,3]) <br>\n",
    "vect.sum_(3)<br>\n",
    "vect.relu_()<br>\n",
    "vect.sigmoid_()<br>"
   ]
  },
  {
   "cell_type": "code",
   "execution_count": 55,
   "id": "31dba91a",
   "metadata": {},
   "outputs": [
    {
     "data": {
      "text/plain": [
       "tensor([2., 4., 5., 4.])"
      ]
     },
     "execution_count": 55,
     "metadata": {},
     "output_type": "execute_result"
    }
   ],
   "source": [
    "vect=torch.tensor([1,3,4,3],dtype=torch.float32)\n",
    "vect.add_(1)"
   ]
  },
  {
   "cell_type": "markdown",
   "id": "76c2b1ed",
   "metadata": {},
   "source": [
    "#### Cloning 2 tensors"
   ]
  },
  {
   "cell_type": "markdown",
   "id": "be91a225",
   "metadata": {},
   "source": [
    "##### New memory location of b is not created rather a and b point to same memory reference"
   ]
  },
  {
   "cell_type": "code",
   "execution_count": 56,
   "id": "89432e94",
   "metadata": {},
   "outputs": [
    {
     "data": {
      "text/plain": [
       "tensor([-1,  2,  3])"
      ]
     },
     "execution_count": 56,
     "metadata": {},
     "output_type": "execute_result"
    }
   ],
   "source": [
    "### wihtout cloning\n",
    "a=torch.tensor([1,2,3])\n",
    "b=a\n",
    "a[0]=-1\n",
    "b"
   ]
  },
  {
   "cell_type": "markdown",
   "id": "91ca2d8d",
   "metadata": {},
   "source": [
    "##### New memory location of b is not created rather a and b point to same memory reference"
   ]
  },
  {
   "cell_type": "code",
   "execution_count": 57,
   "id": "576891f8",
   "metadata": {},
   "outputs": [
    {
     "data": {
      "text/plain": [
       "0"
      ]
     },
     "execution_count": 57,
     "metadata": {},
     "output_type": "execute_result"
    }
   ],
   "source": [
    "id(a)-id(b)"
   ]
  },
  {
   "cell_type": "code",
   "execution_count": 58,
   "id": "f1c8dba3",
   "metadata": {},
   "outputs": [
    {
     "data": {
      "text/plain": [
       "tensor([1, 2, 3])"
      ]
     },
     "execution_count": 58,
     "metadata": {},
     "output_type": "execute_result"
    }
   ],
   "source": [
    "### with cloning\n",
    "a=torch.tensor([1,2,3])\n",
    "b=a.clone()\n",
    "a[0]=-1\n",
    "b"
   ]
  },
  {
   "cell_type": "markdown",
   "id": "cb1e45e3",
   "metadata": {},
   "source": [
    "##### New Memory location of b is created"
   ]
  },
  {
   "cell_type": "code",
   "execution_count": 59,
   "id": "8d4f362c",
   "metadata": {},
   "outputs": [
    {
     "data": {
      "text/plain": [
       "7920"
      ]
     },
     "execution_count": 59,
     "metadata": {},
     "output_type": "execute_result"
    }
   ],
   "source": [
    "id(a)-id(b)"
   ]
  }
 ],
 "metadata": {
  "kernelspec": {
   "display_name": "Empty (3.13.5)",
   "language": "python",
   "name": "python3"
  },
  "language_info": {
   "codemirror_mode": {
    "name": "ipython",
    "version": 3
   },
   "file_extension": ".py",
   "mimetype": "text/x-python",
   "name": "python",
   "nbconvert_exporter": "python",
   "pygments_lexer": "ipython3",
   "version": "3.13.5"
  }
 },
 "nbformat": 4,
 "nbformat_minor": 5
}
