{
 "cells": [
  {
   "cell_type": "code",
   "execution_count": 66,
   "id": "9706bd98",
   "metadata": {},
   "outputs": [],
   "source": [
    "import torch"
   ]
  },
  {
   "cell_type": "markdown",
   "id": "8b5a3796",
   "metadata": {},
   "source": [
    "### Math Operation on 2 tensors"
   ]
  },
  {
   "cell_type": "markdown",
   "id": "c47a3229",
   "metadata": {},
   "source": [
    "#### Basics"
   ]
  },
  {
   "cell_type": "code",
   "execution_count": 67,
   "id": "bf01d1c0",
   "metadata": {},
   "outputs": [],
   "source": [
    "a=torch.rand((2,3))\n",
    "b=torch.rand((2,3))"
   ]
  },
  {
   "cell_type": "code",
   "execution_count": 68,
   "id": "8f75413c",
   "metadata": {},
   "outputs": [
    {
     "data": {
      "text/plain": [
       "tensor([[0., 0., 0.],\n",
       "        [0., 0., 1.]])"
      ]
     },
     "execution_count": 68,
     "metadata": {},
     "output_type": "execute_result"
    }
   ],
   "source": [
    "a+b\n",
    "a*b\n",
    "a**b\n",
    "a//b"
   ]
  },
  {
   "cell_type": "markdown",
   "id": "e71c4974",
   "metadata": {},
   "source": [
    "#### Matrix Operation"
   ]
  },
  {
   "cell_type": "code",
   "execution_count": 69,
   "id": "3e33762b",
   "metadata": {},
   "outputs": [
    {
     "data": {
      "text/plain": [
       "tensor([[0.8961, 1.7747],\n",
       "        [0.7648, 1.3096]])"
      ]
     },
     "execution_count": 69,
     "metadata": {},
     "output_type": "execute_result"
    }
   ],
   "source": [
    "#mutipication\n",
    "mat1=torch.rand((2,3))\n",
    "mat2=torch.rand((3,2))\n",
    "torch.matmul(mat1,mat2)"
   ]
  },
  {
   "cell_type": "code",
   "execution_count": 70,
   "id": "3d5d6f25",
   "metadata": {},
   "outputs": [],
   "source": [
    "sqr_mat=torch.tensor([[1,2,3], [3,4,9], [3,4,2]],dtype=torch.float32)"
   ]
  },
  {
   "cell_type": "code",
   "execution_count": 71,
   "id": "f903d853",
   "metadata": {},
   "outputs": [
    {
     "data": {
      "text/plain": [
       "tensor(14.)"
      ]
     },
     "execution_count": 71,
     "metadata": {},
     "output_type": "execute_result"
    }
   ],
   "source": [
    "torch.det(sqr_mat)"
   ]
  },
  {
   "cell_type": "code",
   "execution_count": 72,
   "id": "ace5b4bf",
   "metadata": {},
   "outputs": [
    {
     "data": {
      "text/plain": [
       "tensor([[-2.0000e+00,  5.7143e-01,  4.2857e-01],\n",
       "        [ 1.5000e+00, -5.0000e-01,  0.0000e+00],\n",
       "        [ 2.9802e-08,  1.4286e-01, -1.4286e-01]])"
      ]
     },
     "execution_count": 72,
     "metadata": {},
     "output_type": "execute_result"
    }
   ],
   "source": [
    "torch.inverse(sqr_mat)"
   ]
  },
  {
   "cell_type": "code",
   "execution_count": 73,
   "id": "7668ce13",
   "metadata": {},
   "outputs": [
    {
     "data": {
      "text/plain": [
       "torch.return_types.linalg_eig(\n",
       "eigenvalues=tensor([10.6112+0.j, -0.4125+0.j, -3.1988+0.j]),\n",
       "eigenvectors=tensor([[ 0.3213+0.j,  0.7881+0.j, -0.0951+0.j],\n",
       "        [ 0.8111+0.j, -0.6143+0.j, -0.7617+0.j],\n",
       "        [ 0.4887+0.j,  0.0385+0.j,  0.6409+0.j]]))"
      ]
     },
     "execution_count": 73,
     "metadata": {},
     "output_type": "execute_result"
    }
   ],
   "source": [
    "torch.linalg.eig(sqr_mat)"
   ]
  },
  {
   "cell_type": "code",
   "execution_count": 74,
   "id": "364b2894",
   "metadata": {},
   "outputs": [
    {
     "data": {
      "text/plain": [
       "tensor(49)"
      ]
     },
     "execution_count": 74,
     "metadata": {},
     "output_type": "execute_result"
    }
   ],
   "source": [
    "## dot product\n",
    "vector1=torch.tensor([1,9,4])\n",
    "vector2=torch.tensor([3,2,7])\n",
    "torch.dot(vector1,vector2)"
   ]
  },
  {
   "cell_type": "markdown",
   "id": "9932bdcd",
   "metadata": {},
   "source": [
    "#### Special Operation"
   ]
  },
  {
   "cell_type": "code",
   "execution_count": 75,
   "id": "72546e10",
   "metadata": {},
   "outputs": [],
   "source": [
    "tns=torch.tensor([2,3,7],dtype=torch.float32)"
   ]
  },
  {
   "cell_type": "markdown",
   "id": "278fbd22",
   "metadata": {},
   "source": [
    "Math operation"
   ]
  },
  {
   "cell_type": "code",
   "execution_count": 76,
   "id": "431488b0",
   "metadata": {},
   "outputs": [
    {
     "data": {
      "text/plain": [
       "tensor([0.6931, 1.0986, 1.9459])"
      ]
     },
     "execution_count": 76,
     "metadata": {},
     "output_type": "execute_result"
    }
   ],
   "source": [
    "torch.log(tns)"
   ]
  },
  {
   "cell_type": "code",
   "execution_count": 77,
   "id": "603af93e",
   "metadata": {},
   "outputs": [
    {
     "data": {
      "text/plain": [
       "tensor([   7.3891,   20.0855, 1096.6332])"
      ]
     },
     "execution_count": 77,
     "metadata": {},
     "output_type": "execute_result"
    }
   ],
   "source": [
    "torch.exp(tns)"
   ]
  },
  {
   "cell_type": "markdown",
   "id": "73f7a959",
   "metadata": {},
   "source": [
    "Activation Function"
   ]
  },
  {
   "cell_type": "code",
   "execution_count": 78,
   "id": "ea5efe24",
   "metadata": {},
   "outputs": [
    {
     "data": {
      "text/plain": [
       "tensor([0.8808, 0.9526, 0.9991])"
      ]
     },
     "execution_count": 78,
     "metadata": {},
     "output_type": "execute_result"
    }
   ],
   "source": [
    "torch.sigmoid(tns)"
   ]
  },
  {
   "cell_type": "code",
   "execution_count": 79,
   "id": "73377f11",
   "metadata": {},
   "outputs": [
    {
     "data": {
      "text/plain": [
       "tensor([0.9640, 0.9951, 1.0000])"
      ]
     },
     "execution_count": 79,
     "metadata": {},
     "output_type": "execute_result"
    }
   ],
   "source": [
    "torch.tanh(tns)"
   ]
  },
  {
   "cell_type": "code",
   "execution_count": 80,
   "id": "93cb3248",
   "metadata": {},
   "outputs": [
    {
     "data": {
      "text/plain": [
       "tensor([0.0066, 0.0179, 0.9756])"
      ]
     },
     "execution_count": 80,
     "metadata": {},
     "output_type": "execute_result"
    }
   ],
   "source": [
    "torch.softmax(tns,dim=0)"
   ]
  }
 ],
 "metadata": {
  "kernelspec": {
   "display_name": "Empty (3.13.5)",
   "language": "python",
   "name": "python3"
  },
  "language_info": {
   "codemirror_mode": {
    "name": "ipython",
    "version": 3
   },
   "file_extension": ".py",
   "mimetype": "text/x-python",
   "name": "python",
   "nbconvert_exporter": "python",
   "pygments_lexer": "ipython3",
   "version": "3.13.5"
  }
 },
 "nbformat": 4,
 "nbformat_minor": 5
}
