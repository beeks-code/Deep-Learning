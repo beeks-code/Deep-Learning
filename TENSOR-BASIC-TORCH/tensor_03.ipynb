{
 "cells": [
  {
   "cell_type": "code",
   "execution_count": 29,
   "id": "b93a5f63",
   "metadata": {},
   "outputs": [],
   "source": [
    "import torch"
   ]
  },
  {
   "cell_type": "markdown",
   "id": "4c673be3",
   "metadata": {},
   "source": [
    "### Basic Math Operation on single tensor"
   ]
  },
  {
   "cell_type": "code",
   "execution_count": 30,
   "id": "b3dce252",
   "metadata": {},
   "outputs": [
    {
     "data": {
      "text/plain": [
       "tensor([[0.2735, 0.0694, 0.3262],\n",
       "        [0.3841, 0.0598, 0.7416]])"
      ]
     },
     "execution_count": 30,
     "metadata": {},
     "output_type": "execute_result"
    }
   ],
   "source": [
    "arr=torch.rand((2,3))\n",
    "arr"
   ]
  },
  {
   "cell_type": "markdown",
   "id": "a8d40ecb",
   "metadata": {},
   "source": [
    "Scalar Operation (very basics)"
   ]
  },
  {
   "cell_type": "code",
   "execution_count": 31,
   "id": "f3a3d94f",
   "metadata": {},
   "outputs": [
    {
     "data": {
      "text/plain": [
       "tensor([[1.2735, 1.0694, 1.3262],\n",
       "        [1.3841, 1.0598, 1.7416]])"
      ]
     },
     "execution_count": 31,
     "metadata": {},
     "output_type": "execute_result"
    }
   ],
   "source": [
    "arr+1"
   ]
  },
  {
   "cell_type": "code",
   "execution_count": 32,
   "id": "f18f1fea",
   "metadata": {},
   "outputs": [
    {
     "data": {
      "text/plain": [
       "tensor([[0.5470, 0.1388, 0.6525],\n",
       "        [0.7683, 0.1195, 1.4832]])"
      ]
     },
     "execution_count": 32,
     "metadata": {},
     "output_type": "execute_result"
    }
   ],
   "source": [
    "arr*2"
   ]
  },
  {
   "cell_type": "code",
   "execution_count": 33,
   "id": "bd59c0fc",
   "metadata": {},
   "outputs": [
    {
     "data": {
      "text/plain": [
       "tensor([[-0.7265, -0.9306, -0.6738],\n",
       "        [-0.6159, -0.9402, -0.2584]])"
      ]
     },
     "execution_count": 33,
     "metadata": {},
     "output_type": "execute_result"
    }
   ],
   "source": [
    "arr-1"
   ]
  },
  {
   "cell_type": "code",
   "execution_count": 34,
   "id": "5017b182",
   "metadata": {},
   "outputs": [
    {
     "data": {
      "text/plain": [
       "tensor([[2.0455e-02, 3.3400e-04, 3.4723e-02],\n",
       "        [5.6685e-02, 2.1332e-04, 4.0786e-01]])"
      ]
     },
     "execution_count": 34,
     "metadata": {},
     "output_type": "execute_result"
    }
   ],
   "source": [
    "arr**3"
   ]
  },
  {
   "cell_type": "code",
   "execution_count": 35,
   "id": "b11d2b7b",
   "metadata": {},
   "outputs": [
    {
     "data": {
      "text/plain": [
       "tensor([[0.2735, 0.0694, 0.3262],\n",
       "        [0.3841, 0.0598, 0.2416]])"
      ]
     },
     "execution_count": 35,
     "metadata": {},
     "output_type": "execute_result"
    }
   ],
   "source": [
    "arr%0.5"
   ]
  },
  {
   "cell_type": "code",
   "execution_count": 36,
   "id": "9e77956d",
   "metadata": {},
   "outputs": [
    {
     "data": {
      "text/plain": [
       "tensor([[False, False, False],\n",
       "        [False, False, False]])"
      ]
     },
     "execution_count": 36,
     "metadata": {},
     "output_type": "execute_result"
    }
   ],
   "source": [
    "arr>1"
   ]
  },
  {
   "cell_type": "code",
   "execution_count": 37,
   "id": "454c2bd4",
   "metadata": {},
   "outputs": [
    {
     "data": {
      "text/plain": [
       "tensor(1.8546)"
      ]
     },
     "execution_count": 37,
     "metadata": {},
     "output_type": "execute_result"
    }
   ],
   "source": [
    "## sum of all numbers on tensor\n",
    "torch.sum(arr)"
   ]
  },
  {
   "cell_type": "code",
   "execution_count": 38,
   "id": "3d3f709f",
   "metadata": {},
   "outputs": [
    {
     "data": {
      "text/plain": [
       "tensor(0.0001)"
      ]
     },
     "execution_count": 38,
     "metadata": {},
     "output_type": "execute_result"
    }
   ],
   "source": [
    "## product of numbers\n",
    "torch.prod(arr)"
   ]
  },
  {
   "cell_type": "code",
   "execution_count": 39,
   "id": "bebfcfd0",
   "metadata": {},
   "outputs": [],
   "source": [
    "a=torch.tensor([2.4,-3.5,4,-9])"
   ]
  },
  {
   "cell_type": "code",
   "execution_count": 40,
   "id": "8eee4457",
   "metadata": {},
   "outputs": [
    {
     "data": {
      "text/plain": [
       "tensor([2.4000, 3.5000, 4.0000, 9.0000])"
      ]
     },
     "execution_count": 40,
     "metadata": {},
     "output_type": "execute_result"
    }
   ],
   "source": [
    "torch.abs(a)"
   ]
  },
  {
   "cell_type": "code",
   "execution_count": 41,
   "id": "3d82c858",
   "metadata": {},
   "outputs": [
    {
     "data": {
      "text/plain": [
       "tensor([-2.4000,  3.5000, -4.0000,  9.0000])"
      ]
     },
     "execution_count": 41,
     "metadata": {},
     "output_type": "execute_result"
    }
   ],
   "source": [
    "torch.neg(a)"
   ]
  },
  {
   "cell_type": "code",
   "execution_count": 42,
   "id": "17a80dcf",
   "metadata": {},
   "outputs": [
    {
     "data": {
      "text/plain": [
       "tensor([ 2., -4.,  4., -9.])"
      ]
     },
     "execution_count": 42,
     "metadata": {},
     "output_type": "execute_result"
    }
   ],
   "source": [
    "torch.round(a)"
   ]
  },
  {
   "cell_type": "markdown",
   "id": "8465ca7d",
   "metadata": {},
   "source": [
    "Some usefull operations"
   ]
  },
  {
   "cell_type": "code",
   "execution_count": 44,
   "id": "f089ff70",
   "metadata": {},
   "outputs": [
    {
     "data": {
      "text/plain": [
       "tensor([ 3., -3.,  4., -9.])"
      ]
     },
     "execution_count": 44,
     "metadata": {},
     "output_type": "execute_result"
    }
   ],
   "source": [
    "## apply ceiling and floor function\n",
    "torch.ceil(a)"
   ]
  },
  {
   "cell_type": "code",
   "execution_count": 46,
   "id": "8731b390",
   "metadata": {},
   "outputs": [
    {
     "data": {
      "text/plain": [
       "tensor([ 2., -4.,  4., -9.])"
      ]
     },
     "execution_count": 46,
     "metadata": {},
     "output_type": "execute_result"
    }
   ],
   "source": [
    "torch.floor(a)"
   ]
  },
  {
   "cell_type": "code",
   "execution_count": 48,
   "id": "621002a7",
   "metadata": {},
   "outputs": [
    {
     "data": {
      "text/plain": [
       "tensor([2.4000, 2.0000, 4.0000, 2.0000])"
      ]
     },
     "execution_count": 48,
     "metadata": {},
     "output_type": "execute_result"
    }
   ],
   "source": [
    "## if values are smaller or greater than given range change to boundary value\n",
    "torch.clamp(a,min=2,max=5)"
   ]
  },
  {
   "cell_type": "code",
   "execution_count": 54,
   "id": "906dcac0",
   "metadata": {},
   "outputs": [],
   "source": [
    "b=torch.tensor([[1,2,3],[9,1,0]],dtype=torch.float16)"
   ]
  },
  {
   "cell_type": "code",
   "execution_count": 50,
   "id": "744bb386",
   "metadata": {},
   "outputs": [
    {
     "data": {
      "text/plain": [
       "tensor(16)"
      ]
     },
     "execution_count": 50,
     "metadata": {},
     "output_type": "execute_result"
    }
   ],
   "source": [
    "torch.sum(b)"
   ]
  },
  {
   "cell_type": "code",
   "execution_count": 51,
   "id": "bc855b2c",
   "metadata": {},
   "outputs": [
    {
     "data": {
      "text/plain": [
       "tensor([10,  3,  3])"
      ]
     },
     "execution_count": 51,
     "metadata": {},
     "output_type": "execute_result"
    }
   ],
   "source": [
    "torch.sum(b,dim=0)\n"
   ]
  },
  {
   "cell_type": "code",
   "execution_count": 52,
   "id": "dfa808ee",
   "metadata": {},
   "outputs": [
    {
     "data": {
      "text/plain": [
       "tensor([ 6, 10])"
      ]
     },
     "execution_count": 52,
     "metadata": {},
     "output_type": "execute_result"
    }
   ],
   "source": [
    "torch.sum(b,dim=1)"
   ]
  },
  {
   "cell_type": "code",
   "execution_count": 55,
   "id": "9533eb09",
   "metadata": {},
   "outputs": [
    {
     "data": {
      "text/plain": [
       "tensor([5.0000, 1.5000, 1.5000], dtype=torch.float16)"
      ]
     },
     "execution_count": 55,
     "metadata": {},
     "output_type": "execute_result"
    }
   ],
   "source": [
    "torch.mean(b,dim=0)"
   ]
  },
  {
   "cell_type": "code",
   "execution_count": 59,
   "id": "ad0f6c8d",
   "metadata": {},
   "outputs": [
    {
     "name": "stdout",
     "output_type": "stream",
     "text": [
      "Median is1.0\n",
      "Max is9.0\n",
      "Min is0.0\n",
      "Standard Deviation is3.265625\n",
      "Variance is10.6640625\n",
      "Postion of max value in tensor is 3\n"
     ]
    }
   ],
   "source": [
    "print(f\"Median is{torch.median(b)}\")\n",
    "print(f\"Max is{torch.max(b)}\")\n",
    "print(f\"Min is{torch.min(b)}\")\n",
    "print(f\"Standard Deviation is{torch.std(b)}\")\n",
    "print(f\"Variance is{torch.var(b)}\")\n",
    "print(f\"Postion of max value in tensor is {torch.argmax(b)}\")"
   ]
  }
 ],
 "metadata": {
  "kernelspec": {
   "display_name": "Empty (3.13.5)",
   "language": "python",
   "name": "python3"
  },
  "language_info": {
   "codemirror_mode": {
    "name": "ipython",
    "version": 3
   },
   "file_extension": ".py",
   "mimetype": "text/x-python",
   "name": "python",
   "nbconvert_exporter": "python",
   "pygments_lexer": "ipython3",
   "version": "3.13.5"
  }
 },
 "nbformat": 4,
 "nbformat_minor": 5
}
